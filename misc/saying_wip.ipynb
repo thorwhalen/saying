{
 "cells": [
  {
   "cell_type": "markdown",
   "metadata": {},
   "source": [
    "This is the place where I experimented with things before commiting them to the package's code.\n",
    "\n",
    "It's also where I put usage code, before I transform those to docs and/or tests."
   ]
  },
  {
   "cell_type": "code",
   "execution_count": null,
   "metadata": {},
   "outputs": [],
   "source": []
  },
  {
   "cell_type": "markdown",
   "metadata": {},
   "source": [
    "# get_raw_data"
   ]
  },
  {
   "cell_type": "code",
   "execution_count": 3,
   "metadata": {},
   "outputs": [
    {
     "name": "stdout",
     "output_type": "stream",
     "text": [
      "Returning named sources...\n"
     ]
    },
    {
     "data": {
      "text/plain": [
       "{'micheleriva_5421', 'x16bkkamz6rkb78rzt7op_75968'}"
      ]
     },
     "execution_count": 3,
     "metadata": {},
     "output_type": "execute_result"
    }
   ],
   "source": [
    "from saying.util import get_raw_data\n",
    "\n",
    "get_raw_data()"
   ]
  },
  {
   "cell_type": "code",
   "execution_count": 32,
   "metadata": {},
   "outputs": [
    {
     "data": {
      "text/plain": [
       "5421"
      ]
     },
     "execution_count": 32,
     "metadata": {},
     "output_type": "execute_result"
    }
   ],
   "source": [
    "d = get_raw_data('micheleriva_5421')\n",
    "len(d)"
   ]
  },
  {
   "cell_type": "code",
   "execution_count": 33,
   "metadata": {},
   "outputs": [
    {
     "data": {
      "text/plain": [
       "[{'quote': 'Genius is one percent inspiration and ninety-nine percent perspiration.',\n",
       "  'author': 'Thomas Edison'},\n",
       " {'quote': 'You can observe a lot just by watching.', 'author': 'Yogi Berra'},\n",
       " {'quote': 'A house divided against itself cannot stand.',\n",
       "  'author': 'Abraham Lincoln'}]"
      ]
     },
     "execution_count": 33,
     "metadata": {},
     "output_type": "execute_result"
    }
   ],
   "source": [
    "d[:3]"
   ]
  },
  {
   "cell_type": "code",
   "execution_count": 4,
   "metadata": {},
   "outputs": [
    {
     "data": {
      "text/plain": [
       "75968"
      ]
     },
     "execution_count": 4,
     "metadata": {},
     "output_type": "execute_result"
    }
   ],
   "source": [
    "dd = get_raw_data('x16bkkamz6rkb78rzt7op_75968')\n",
    "len(dd)"
   ]
  },
  {
   "cell_type": "code",
   "execution_count": 43,
   "metadata": {},
   "outputs": [
    {
     "data": {
      "text/plain": [
       "(['2', \"'QUOTE'\", \"'AUTHOR'\", \"'GENRE\\\\r'\"],\n",
       " [['3',\n",
       "   \"'Age is an issue of mind over matter. If you don't mind\",\n",
       "   \"it doesn't matter.'\",\n",
       "   \"'Mark Twain'\",\n",
       "   \"'age\\\\r'\"],\n",
       "  ['4',\n",
       "   \"'Anyone who stops learning is old\",\n",
       "   \"whether at twenty or eighty. Anyone who keeps learning stays young. The greatest thing in life is to keep your mind young.'\",\n",
       "   \"'Henry Ford'\",\n",
       "   \"'age\\\\r'\"]])"
      ]
     },
     "execution_count": 43,
     "metadata": {},
     "output_type": "execute_result"
    }
   ],
   "source": [
    "dd[1], dd[2:4]"
   ]
  },
  {
   "cell_type": "code",
   "execution_count": 59,
   "metadata": {},
   "outputs": [
    {
     "data": {
      "text/plain": [
       "{'2': '7',\n",
       " 'quote': \"A diplomat is a man who always remembers a woman's birthday but never remembers her age.\",\n",
       " 'author': 'Robert Frost',\n",
       " 'genre': 'age'}"
      ]
     },
     "execution_count": 59,
     "metadata": {},
     "output_type": "execute_result"
    }
   ],
   "source": [
    "def remove_surrounding_single_quotes(s):\n",
    "    if s.startswith(\"'\") and s.endswith(\"'\"):\n",
    "        return s[1:-1]\n",
    "    return s\n",
    "\n",
    "def clean_sring(s):\n",
    "    s = remove_surrounding_single_quotes(s)\n",
    "    if s.endswith(\"\\\\r\"):\n",
    "        s = s[:-2]\n",
    "    s = s.strip()\n",
    "    return s\n",
    "\n",
    "\n",
    "def dict_of_rows_and_columns(rows, columns):\n",
    "    for row in rows:\n",
    "        yield dict(zip(columns, row))\n",
    "\n",
    "\n",
    "columns = list(map(lambda x: remove_surrounding_single_quotes(x).lower(), dd[1]))\n",
    "ddd = list(dict_of_rows_and_columns(dd[2:], columns=columns))\n",
    "\n",
    "ddd = [\n",
    "    {clean_sring(k): clean_sring(v) for k, v in row.items()} for row in ddd\n",
    "]\n",
    "\n",
    "ddd[4]\n"
   ]
  },
  {
   "cell_type": "code",
   "execution_count": 57,
   "metadata": {},
   "outputs": [
    {
     "data": {
      "text/plain": [
       "'\\\\'"
      ]
     },
     "execution_count": 57,
     "metadata": {},
     "output_type": "execute_result"
    }
   ],
   "source": [
    "\n",
    "'age\\\\r'[-2]"
   ]
  },
  {
   "cell_type": "code",
   "execution_count": 1,
   "metadata": {},
   "outputs": [],
   "source": [
    "import re\n",
    "\n",
    "def extract_sql_data(text):\n",
    "    # Find all INSERT INTO statements\n",
    "    insert_statements = re.findall(r\"INSERT INTO `[^`]+` VALUES \\((.*?)\\);\", text, re.DOTALL)\n",
    "\n",
    "    data = []\n",
    "    for statement in insert_statements:\n",
    "        # Split the statement into individual records\n",
    "        records = statement.split('),(')\n",
    "        for record in records:\n",
    "            # Clean and split the record into fields\n",
    "            fields = record.strip().split(',')\n",
    "            # Clean up each field (remove surrounding quotes and escape sequences)\n",
    "            cleaned_fields = [re.sub(r\"(^' | '$)\", '', field).replace(\"\\\\'\", \"'\").strip() for field in fields]\n",
    "            data.append(cleaned_fields)\n",
    "    \n",
    "    return data\n",
    "\n",
    "from saying.util import extract_sql_data\n",
    "\n",
    "\n"
   ]
  },
  {
   "cell_type": "code",
   "execution_count": 11,
   "metadata": {},
   "outputs": [
    {
     "ename": "AttributeError",
     "evalue": "module 'dol' has no attribute 'base'",
     "output_type": "error",
     "traceback": [
      "\u001b[0;31m---------------------------------------------------------------------------\u001b[0m",
      "\u001b[0;31mAttributeError\u001b[0m                            Traceback (most recent call last)",
      "Cell \u001b[0;32mIn[11], line 1\u001b[0m\n\u001b[0;32m----> 1\u001b[0m \u001b[38;5;28;01mfrom\u001b[39;00m \u001b[38;5;21;01msaying\u001b[39;00m\u001b[38;5;21;01m.\u001b[39;00m\u001b[38;5;21;01mutil\u001b[39;00m \u001b[38;5;28;01mimport\u001b[39;00m extract_sql_data\n\u001b[1;32m      3\u001b[0m \u001b[38;5;66;03m# Example SQL text to be processed\u001b[39;00m\n\u001b[1;32m      4\u001b[0m \u001b[38;5;28;01mfrom\u001b[39;00m \u001b[38;5;21;01msaying\u001b[39;00m\u001b[38;5;21;01m.\u001b[39;00m\u001b[38;5;21;01mutil\u001b[39;00m \u001b[38;5;28;01mimport\u001b[39;00m extract_sql_data, extract_sql_table_rows\n",
      "File \u001b[0;32m~/Dropbox/py/proj/t/saying/saying/__init__.py:3\u001b[0m\n\u001b[1;32m      1\u001b[0m \u001b[38;5;124;03m\"\"\"AI tools for quotes and sayings.\"\"\"\u001b[39;00m\n\u001b[0;32m----> 3\u001b[0m \u001b[38;5;28;01mfrom\u001b[39;00m \u001b[38;5;21;01msaying\u001b[39;00m\u001b[38;5;21;01m.\u001b[39;00m\u001b[38;5;21;01mutil\u001b[39;00m \u001b[38;5;28;01mimport\u001b[39;00m get_raw_data\n",
      "File \u001b[0;32m~/Dropbox/py/proj/t/saying/saying/util.py:7\u001b[0m\n\u001b[1;32m      5\u001b[0m \u001b[38;5;28;01mfrom\u001b[39;00m \u001b[38;5;21;01mtyping\u001b[39;00m \u001b[38;5;28;01mimport\u001b[39;00m Iterable, Optional, Union\n\u001b[1;32m      6\u001b[0m \u001b[38;5;28;01mfrom\u001b[39;00m \u001b[38;5;21;01mconfig2py\u001b[39;00m \u001b[38;5;28;01mimport\u001b[39;00m get_app_data_folder\n\u001b[0;32m----> 7\u001b[0m \u001b[38;5;28;01mfrom\u001b[39;00m \u001b[38;5;21;01mgraze\u001b[39;00m \u001b[38;5;28;01mimport\u001b[39;00m graze \u001b[38;5;28;01mas\u001b[39;00m _graze\n\u001b[1;32m      8\u001b[0m \u001b[38;5;28;01mfrom\u001b[39;00m \u001b[38;5;21;01mhashlib\u001b[39;00m \u001b[38;5;28;01mimport\u001b[39;00m md5\n\u001b[1;32m      9\u001b[0m \u001b[38;5;28;01mimport\u001b[39;00m \u001b[38;5;21;01mre\u001b[39;00m\n",
      "File \u001b[0;32m~/Dropbox/py/proj/t/graze/graze/__init__.py:3\u001b[0m\n\u001b[1;32m      1\u001b[0m \u001b[38;5;124;03m\"\"\"Getting stuff from the internet (and caching locally, automatically)\"\"\"\u001b[39;00m\n\u001b[0;32m----> 3\u001b[0m \u001b[38;5;28;01mfrom\u001b[39;00m \u001b[38;5;21;01mgraze\u001b[39;00m\u001b[38;5;21;01m.\u001b[39;00m\u001b[38;5;21;01mbase\u001b[39;00m \u001b[38;5;28;01mimport\u001b[39;00m (\n\u001b[1;32m      4\u001b[0m     DFLT_GRAZE_DIR,\n\u001b[1;32m      5\u001b[0m     Internet,\n\u001b[1;32m      6\u001b[0m     Graze,\n\u001b[1;32m      7\u001b[0m     GrazeWithDataRefresh,\n\u001b[1;32m      8\u001b[0m     graze,\n\u001b[1;32m      9\u001b[0m     url_to_filepath,\n\u001b[1;32m     10\u001b[0m     url_to_contents,\n\u001b[1;32m     11\u001b[0m     preget_print_downloading_message,\n\u001b[1;32m     12\u001b[0m )\n\u001b[1;32m     13\u001b[0m \u001b[38;5;28;01mfrom\u001b[39;00m \u001b[38;5;21;01mgraze\u001b[39;00m\u001b[38;5;21;01m.\u001b[39;00m\u001b[38;5;21;01mutil\u001b[39;00m \u001b[38;5;28;01mimport\u001b[39;00m handle_missing_dir\n",
      "File \u001b[0;32m~/Dropbox/py/proj/t/graze/graze/base.py:12\u001b[0m\n\u001b[1;32m      8\u001b[0m \u001b[38;5;28;01mfrom\u001b[39;00m \u001b[38;5;21;01mfunctools\u001b[39;00m \u001b[38;5;28;01mimport\u001b[39;00m partialmethod, partial\n\u001b[1;32m     10\u001b[0m \u001b[38;5;28;01mimport\u001b[39;00m \u001b[38;5;21;01mrequests\u001b[39;00m\n\u001b[0;32m---> 12\u001b[0m \u001b[38;5;28;01mfrom\u001b[39;00m \u001b[38;5;21;01mpy2store\u001b[39;00m\u001b[38;5;21;01m.\u001b[39;00m\u001b[38;5;21;01mdig\u001b[39;00m \u001b[38;5;28;01mimport\u001b[39;00m inner_most_key\n\u001b[1;32m     14\u001b[0m \u001b[38;5;66;03m# from py2store.persisters.local_files import ensure_slash_suffix\u001b[39;00m\n\u001b[1;32m     15\u001b[0m \u001b[38;5;28;01mfrom\u001b[39;00m \u001b[38;5;21;01mdol\u001b[39;00m\u001b[38;5;21;01m.\u001b[39;00m\u001b[38;5;21;01mfilesys\u001b[39;00m \u001b[38;5;28;01mimport\u001b[39;00m ensure_slash_suffix\n",
      "File \u001b[0;32m~/Dropbox/py/proj/i/py2store/py2store/__init__.py:127\u001b[0m\n\u001b[1;32m    124\u001b[0m     \u001b[38;5;28;01mfrom\u001b[39;00m \u001b[38;5;21;01mpy2store\u001b[39;00m\u001b[38;5;21;01m.\u001b[39;00m\u001b[38;5;21;01maccess\u001b[39;00m \u001b[38;5;28;01mimport\u001b[39;00m mystores\n\u001b[1;32m    126\u001b[0m \u001b[38;5;28;01mwith\u001b[39;00m ignore_if_module_not_found:\n\u001b[0;32m--> 127\u001b[0m     \u001b[38;5;28;01mfrom\u001b[39;00m \u001b[38;5;21;01mpy2store\u001b[39;00m\u001b[38;5;21;01m.\u001b[39;00m\u001b[38;5;21;01mstores\u001b[39;00m\u001b[38;5;21;01m.\u001b[39;00m\u001b[38;5;21;01ms3_store\u001b[39;00m \u001b[38;5;28;01mimport\u001b[39;00m (\n\u001b[1;32m    128\u001b[0m         S3BinaryStore,\n\u001b[1;32m    129\u001b[0m         S3TextStore,\n\u001b[1;32m    130\u001b[0m         S3PickleStore,\n\u001b[1;32m    131\u001b[0m     )\n\u001b[1;32m    133\u001b[0m \u001b[38;5;66;03m# If you want it, import from mongodol (pip installable) directly\u001b[39;00m\n\u001b[1;32m    134\u001b[0m \u001b[38;5;66;03m# with ignore_if_module_not_found:\u001b[39;00m\n\u001b[1;32m    135\u001b[0m \u001b[38;5;66;03m#     from mongodol.stores import (\u001b[39;00m\n\u001b[0;32m   (...)\u001b[0m\n\u001b[1;32m    138\u001b[0m \u001b[38;5;66;03m#         MongoAnyKeyStore,\u001b[39;00m\n\u001b[1;32m    139\u001b[0m \u001b[38;5;66;03m#     )\u001b[39;00m\n\u001b[1;32m    141\u001b[0m \u001b[38;5;28;01mwith\u001b[39;00m ignore_if_module_not_found:\n",
      "File \u001b[0;32m~/Dropbox/py/proj/i/py2store/py2store/stores/s3_store.py:7\u001b[0m\n\u001b[1;32m      4\u001b[0m \u001b[38;5;28;01mfrom\u001b[39;00m \u001b[38;5;21;01mcontextlib\u001b[39;00m \u001b[38;5;28;01mimport\u001b[39;00m suppress\n\u001b[1;32m      6\u001b[0m \u001b[38;5;28;01mwith\u001b[39;00m suppress(\u001b[38;5;167;01mModuleNotFoundError\u001b[39;00m):\n\u001b[0;32m----> 7\u001b[0m     \u001b[38;5;28;01mfrom\u001b[39;00m \u001b[38;5;21;01ms3dol\u001b[39;00m\u001b[38;5;21;01m.\u001b[39;00m\u001b[38;5;21;01ms3_store\u001b[39;00m \u001b[38;5;28;01mimport\u001b[39;00m \u001b[38;5;241m*\u001b[39m\n",
      "File \u001b[0;32m~/Dropbox/py/proj/i/s3dol/s3dol/__init__.py:4\u001b[0m\n\u001b[1;32m      1\u001b[0m \u001b[38;5;124;03m\"\"\"\u001b[39;00m\n\u001b[1;32m      2\u001b[0m \u001b[38;5;124;03ms3 (through boto3) with a simple (dict-like or list-like) interface\u001b[39;00m\n\u001b[1;32m      3\u001b[0m \u001b[38;5;124;03m\"\"\"\u001b[39;00m\n\u001b[0;32m----> 4\u001b[0m \u001b[38;5;28;01mfrom\u001b[39;00m \u001b[38;5;21;01ms3dol\u001b[39;00m\u001b[38;5;21;01m.\u001b[39;00m\u001b[38;5;21;01mbase\u001b[39;00m \u001b[38;5;28;01mimport\u001b[39;00m S3Dol\n\u001b[1;32m      5\u001b[0m \u001b[38;5;28;01mfrom\u001b[39;00m \u001b[38;5;21;01ms3dol\u001b[39;00m\u001b[38;5;21;01m.\u001b[39;00m\u001b[38;5;21;01mstore\u001b[39;00m \u001b[38;5;28;01mimport\u001b[39;00m S3Store\n",
      "File \u001b[0;32m~/Dropbox/py/proj/i/s3dol/s3dol/base.py:91\u001b[0m\n\u001b[1;32m     86\u001b[0m     client \u001b[38;5;241m=\u001b[39m session\u001b[38;5;241m.\u001b[39mclient(\u001b[38;5;124m'\u001b[39m\u001b[38;5;124ms3\u001b[39m\u001b[38;5;124m'\u001b[39m, endpoint_url\u001b[38;5;241m=\u001b[39mendpoint_url)\n\u001b[1;32m     87\u001b[0m     \u001b[38;5;28;01mreturn\u001b[39;00m client\n\u001b[1;32m     90\u001b[0m \u001b[38;5;129m@dataclass\u001b[39m\n\u001b[0;32m---> 91\u001b[0m \u001b[38;5;28;01mclass\u001b[39;00m \u001b[38;5;21;01mBaseS3BucketReader\u001b[39;00m(\u001b[43mdol\u001b[49m\u001b[38;5;241;43m.\u001b[39;49m\u001b[43mbase\u001b[49m\u001b[38;5;241m.\u001b[39mKvReader):\n\u001b[1;32m     92\u001b[0m     \u001b[38;5;124;03m\"\"\"Dict-like interface for AWS S3 buckets\"\"\"\u001b[39;00m\n\u001b[1;32m     94\u001b[0m     client: boto3\u001b[38;5;241m.\u001b[39mclient\n",
      "\u001b[0;31mAttributeError\u001b[0m: module 'dol' has no attribute 'base'"
     ]
    }
   ],
   "source": [
    "from saying.util import extract_sql_data\n",
    "\n",
    "# Example SQL text to be processed\n",
    "from saying.util import extract_sql_data, extract_sql_table_rows\n",
    "\n",
    "# Example SQL text to be processed\n",
    "sql_text = \"\"\"\n",
    "INSERT INTO `quotes` VALUES \n",
    "(1,'EXTRACTED DATA WITH HTTP:\\\\\\\\THEWEBMINER.COM','','\\\\r'),\n",
    "(2,'QUOTE','AUTHOR','GENRE\\\\r'),\n",
    "(3,'Age is an issue of mind over matter. If you don\\\\'t mind, it doesn\\\\'t matter.','Mark Twain','age\\\\r'),\n",
    "(4,'Anyone who stops learning is old, whether at twenty or eighty. Anyone who keeps learning stays young. The greatest thing in life is to keep your mind young.','Henry Ford','age\\\\r');\n",
    "\"\"\"\n",
    "\n",
    "sql_text = \"\"\"\n",
    "INSERT INTO `quotes` VALUES \n",
    "(1,'EXTRACTED DATA WITH HTTP:\\\\\\\\THEWEBMINER.COM','','\\\\r'),\n",
    "(2,'QUOTE','AUTHOR','GENRE\\\\r'),\n",
    "(3,'Age is an issue of mind over matter. If you don\\\\'t mind, it doesn\\\\'t matter.','Mark Twain','age\\\\r'),\n",
    "(4,'Anyone who stops learning is old, whether at twenty or eighty. Anyone who keeps learning stays young. The greatest thing in life is to keep your mind young.','Henry Ford','age\\\\r')\n",
    "\"\"\"\n",
    "\n",
    "sql_text = \"\"\"-- MySQL dump 10.13  Distrib 5.5.37, for debian-linux-gnu (i686)\n",
    "...\n",
    "INSERT INTO `quotes` VALUES (1,'EXTRACTED DATA WITH HTTP:\\\\THEWEBMINER.COM','','\\r'),(2,'QUOTE','AUTHOR','GENRE\\r')\n",
    "\"\"\"\n",
    "\n",
    "# Call the function with the example SQL text\n",
    "# quotes_data = extract_sql_data(sql_text)\n",
    "\n",
    "# # Print the extracted data\n",
    "# print(quotes_data)\n",
    "\n",
    "# it = extract_sql_table_rows(sql_text)\n",
    "\n",
    "# next(it)\n",
    "\n",
    "\n",
    "sql_text = \"\"\"\n",
    "INSERT INTO `quotes` VALUES \n",
    "(1, 'Life is what happens when you\\'re busy making other plans.', 'John Lennon', 'life');\n",
    "(2, 'Get busy living or get busy dying.', 'Stephen King', 'life');\n",
    "(3, 'The only impossible journey is the one you never begin.', 'Tony Robbins', 'motivation');\n",
    "\"\"\"\n",
    "sql_text = \"\"\"\n",
    "INSERT INTO `quotes` VALUES \n",
    "(1, 'Life is what happens when you\\'re busy making other plans.', 'John Lennon\n",
    "\"\"\"\n",
    "\n",
    "sql_text = \"\"\"\n",
    "/*!40000 ALTER TABLE `quotes` DISABLE KEYS */;\n",
    "INSERT INTO `quotes` VALUES (1,'EXTRACTED DATA WITH HTTP:\\\\THEWEBMINER.COM','','\\r'),\n",
    "(2,'QUOTE','AUTHOR','GENRE\\r'),\n",
    "(3,'Age is an issue of mind over matter. If you don\\'t mind, it doesn\\'t matter.','Mark Twain','age\\r');\n",
    "\"\"\"\n",
    "\n",
    "\n",
    "sql_text = \"\"\"\n",
    "/*!40000 ALTER TABLE `quotes` DISABLE KEYS */;\n",
    "INSERT INTO `quotes` (col1,col2,col3) VALUES \n",
    "(1,'One', 1.0),\n",
    "(2,'Two', 2.0),\n",
    "(3,'Three', 3.0);\n",
    "\"\"\"\n",
    "\n",
    "# Test the function with the example SQL text\n",
    "quotes_data = extract_sql_data(sql_text)\n",
    "\n",
    "# Print the extracted data\n",
    "print(quotes_data)\n",
    "\n",
    "text = sql_text\n",
    "import re\n",
    "insert_statements = re.findall(\n",
    "    (\n",
    "        r\"INSERT INTO \"\n",
    "        \"`[^`]+\"  # table name\n",
    "        \"`.+?\"  # could be nothing, or colmns...\n",
    "        \"VALUES.+?\\((.*?)\\);\"  # statement (rows)\n",
    "    ),\n",
    "    text,\n",
    "    re.DOTALL,\n",
    ")"
   ]
  },
  {
   "cell_type": "code",
   "execution_count": 10,
   "metadata": {},
   "outputs": [
    {
     "name": "stdout",
     "output_type": "stream",
     "text": [
      "Table: quotes\n",
      "Columns: []\n",
      "Rows: [('',)]\n"
     ]
    }
   ],
   "source": [
    "import sqlparse\n",
    "\n",
    "def parse_sql_dump(sql_text):\n",
    "    # Parse the SQL dump\n",
    "    parsed = sqlparse.parse(sql_text)\n",
    "\n",
    "    table_name = None\n",
    "    columns_list = []\n",
    "    rows = []\n",
    "\n",
    "    for statement in parsed:\n",
    "        if statement.get_type() == 'CREATE':\n",
    "            # Extract table name\n",
    "            tokens = [token for token in statement.tokens if not token.is_whitespace]\n",
    "            for i, token in enumerate(tokens):\n",
    "                if token.value.upper() == 'TABLE':\n",
    "                    table_name = tokens[i + 1].get_real_name()\n",
    "                elif token.ttype is sqlparse.tokens.Punctuation and token.value == '(':\n",
    "                    # Extract columns\n",
    "                    columns_list = [str(column).strip() for column in tokens[i + 1].get_identifiers()]\n",
    "                    break\n",
    "\n",
    "        elif statement.get_type() == 'INSERT':\n",
    "            # Extract rows\n",
    "            for token in statement.flatten():\n",
    "                if token.value.upper().startswith('VALUES'):\n",
    "                    values_str = token.value[6:].strip()\n",
    "                    rows_str = values_str[1:-1]  # Remove surrounding parentheses\n",
    "                    rows = [tuple(val.strip() for val in row.split(',')) for row in rows_str.split('),(')]\n",
    "\n",
    "    return table_name, columns_list, rows\n",
    "\n",
    "# Example usage\n",
    "sql_text = \"\"\"CREATE TABLE `quotes` (\n",
    "  `id` int(11) NOT NULL AUTO_INCREMENT,\n",
    "  `quote` varchar(800) DEFAULT NULL,\n",
    "  `author` varchar(100) DEFAULT NULL,\n",
    "  `genre` varchar(100) DEFAULT NULL,\n",
    "  PRIMARY KEY (`id`)\n",
    ");\n",
    "INSERT INTO `quotes` VALUES (1, 'Life is what happens...', 'John Lennon', 'life'), (2, 'Get busy living...', 'Stephen King', 'life');\n",
    "\"\"\"\n",
    "\n",
    "table_name, columns, rows = parse_sql_dump(sql_text)\n",
    "print(\"Table:\", table_name)\n",
    "print(\"Columns:\", columns)\n",
    "print(\"Rows:\", rows)\n"
   ]
  },
  {
   "cell_type": "code",
   "execution_count": 23,
   "metadata": {},
   "outputs": [
    {
     "name": "stdout",
     "output_type": "stream",
     "text": [
      "len(b)=13733779\n",
      "Table: quotes\n",
      "Columns: []\n",
      "len(rows)=1\n"
     ]
    }
   ],
   "source": [
    "from saying.util import graze, graze_urls\n",
    "\n",
    "\n",
    "b = graze(graze_urls['x16bkkamz6rkb78rzt7op_75968'])\n",
    "print(f\"{len(b)=}\")\n",
    "\n",
    "# table_name, columns, rows = parse_sql_dump(b.decode())\n",
    "print(\"Table:\", table_name)\n",
    "print(\"Columns:\", columns)\n",
    "print(f\"{len(rows)=}\")"
   ]
  },
  {
   "cell_type": "code",
   "execution_count": 26,
   "metadata": {},
   "outputs": [
    {
     "data": {
      "text/plain": [
       "[('',)]"
      ]
     },
     "execution_count": 26,
     "metadata": {},
     "output_type": "execute_result"
    }
   ],
   "source": [
    "rows"
   ]
  },
  {
   "cell_type": "code",
   "execution_count": 19,
   "metadata": {},
   "outputs": [],
   "source": []
  },
  {
   "cell_type": "code",
   "execution_count": 38,
   "metadata": {},
   "outputs": [
    {
     "data": {
      "text/plain": [
       "1485"
      ]
     },
     "execution_count": 38,
     "metadata": {},
     "output_type": "execute_result"
    }
   ],
   "source": [
    "from saying.util import hash_text\n",
    "\n",
    "t = set(map(lambda x: hash_text(x['quote']), d))\n",
    "tt = set(map(lambda x: hash_text(x['text']), dd))\n",
    "len(t & tt)"
   ]
  },
  {
   "cell_type": "code",
   "execution_count": 10,
   "metadata": {},
   "outputs": [
    {
     "data": {
      "text/plain": [
       "{'a': '{\\n \"b\": 2\\n}'}"
      ]
     },
     "execution_count": 10,
     "metadata": {},
     "output_type": "execute_result"
    }
   ],
   "source": [
    "from dol import ValueCodecs, wrap_kvs\n",
    "from dol.trans import ValueCodec\n",
    "\n",
    "d = {}\n",
    "dd = ValueCodecs.json(indent=True)(d)\n",
    "dd['a'] = {'b': 2}\n",
    "d\n",
    "\n",
    "\n",
    "# ValueCodecs.default.json\n",
    "# import json\n",
    "# json.dumps\n"
   ]
  },
  {
   "cell_type": "code",
   "execution_count": 29,
   "metadata": {},
   "outputs": [
    {
     "data": {
      "text/plain": [
       "[{'quote': 'Genius is one percent inspiration and ninety-nine percent perspiration.',\n",
       "  'author': 'Thomas Edison'},\n",
       " {'quote': 'You can observe a lot just by watching.', 'author': 'Yogi Berra'},\n",
       " {'quote': 'A house divided against itself cannot stand.',\n",
       "  'author': 'Abraham Lincoln'}]"
      ]
     },
     "execution_count": 29,
     "metadata": {},
     "output_type": "execute_result"
    }
   ],
   "source": []
  },
  {
   "cell_type": "code",
   "execution_count": 27,
   "metadata": {},
   "outputs": [
    {
     "data": {
      "text/plain": [
       "5421"
      ]
     },
     "execution_count": 27,
     "metadata": {},
     "output_type": "execute_result"
    }
   ],
   "source": [
    "dd = get_raw_data('micheleriva')\n",
    "len(dd)"
   ]
  },
  {
   "cell_type": "code",
   "execution_count": 24,
   "metadata": {},
   "outputs": [
    {
     "data": {
      "text/plain": [
       "'5eb63bbbe01eeed093cb22bb8f5acdc3'"
      ]
     },
     "execution_count": 24,
     "metadata": {},
     "output_type": "execute_result"
    }
   ],
   "source": [
    "from hashlib import md5\n",
    "import re\n",
    "\n",
    "non_alphanumeric_re = re.compile(r'\\W+')\n",
    "\n",
    "def lower_alphanumeric(text):\n",
    "    return non_alphanumeric_re.sub(' ', text).strip().lower()\n",
    "\n",
    "def hash_text(text):\n",
    "    \"\"\"Return a hash of the text, ignoring punctuation and capitalization.\n",
    "    \n",
    "    >>> (assert hash_text('Hello, world!') \n",
    "    ...     ==  hash_text('hello world') \n",
    "    ...     == '5eb63bbbe01eeed093cb22bb8f5acdc3'\n",
    "    ... )\n",
    "\n",
    "    \"\"\"\n",
    "    normalized_text = lower_alphanumeric(text)\n",
    "    return md5(normalized_text.encode()).hexdigest()\n",
    "\n",
    "\n"
   ]
  },
  {
   "cell_type": "code",
   "execution_count": null,
   "metadata": {},
   "outputs": [],
   "source": []
  },
  {
   "cell_type": "code",
   "execution_count": null,
   "metadata": {},
   "outputs": [],
   "source": []
  }
 ],
 "metadata": {
  "kernelspec": {
   "display_name": "Python 3",
   "language": "python",
   "name": "python3"
  },
  "language_info": {
   "codemirror_mode": {
    "name": "ipython",
    "version": 3
   },
   "file_extension": ".py",
   "mimetype": "text/x-python",
   "name": "python",
   "nbconvert_exporter": "python",
   "pygments_lexer": "ipython3",
   "version": "3.10.8"
  }
 },
 "nbformat": 4,
 "nbformat_minor": 2
}
